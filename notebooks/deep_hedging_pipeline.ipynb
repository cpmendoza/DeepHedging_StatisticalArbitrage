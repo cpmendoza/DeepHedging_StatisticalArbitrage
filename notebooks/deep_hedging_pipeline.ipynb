{
 "cells": [
  {
   "cell_type": "markdown",
   "metadata": {},
   "source": [
    "# Deep Hedging pipeline"
   ]
  },
  {
   "cell_type": "markdown",
   "metadata": {},
   "source": [
    "## Evironment setup"
   ]
  },
  {
   "cell_type": "markdown",
   "metadata": {},
   "source": [
    "Setup the general environment"
   ]
  },
  {
   "cell_type": "code",
   "execution_count": 2,
   "metadata": {},
   "outputs": [],
   "source": [
    "import os, sys\n",
    "from pathlib import Path\n",
    "\n",
    "main_folder = str(Path.cwd().parent)\n",
    "sys.path.append(main_folder)\n",
    "\n",
    "import warnings\n",
    "warnings.filterwarnings(\"ignore\")"
   ]
  },
  {
   "cell_type": "markdown",
   "metadata": {},
   "source": [
    "## Market simulation"
   ]
  },
  {
   "cell_type": "markdown",
   "metadata": {},
   "source": [
    "Simulation of state variables according to the specified market dynamics"
   ]
  },
  {
   "cell_type": "code",
   "execution_count": 3,
   "metadata": {},
   "outputs": [
    {
     "name": "stdout",
     "output_type": "stream",
     "text": [
      "-- Market dynamics simulation starts --\n",
      "-- Simulation completed - Features stored in ../data/processed/--\n"
     ]
    }
   ],
   "source": [
    "from src.utils import *\n",
    "from src.features.features_simulation import *\n",
    "\n",
    "config_file = load_config(os.path.join(main_folder,'cfgs','config_simulation.yml'))\n",
    "market = market_simulator(config_file)\n",
    "market.simulator()"
   ]
  },
  {
   "cell_type": "markdown",
   "metadata": {},
   "source": [
    "## Deep Hedging "
   ]
  },
  {
   "cell_type": "markdown",
   "metadata": {},
   "source": [
    "Deep RL agent training and hedging strategy generation\n",
    "\n",
    "**Remark**: This segment of the pipeline assumes that the JIVR features have already been simulated."
   ]
  },
  {
   "cell_type": "code",
   "execution_count": 4,
   "metadata": {},
   "outputs": [
    {
     "name": "stdout",
     "output_type": "stream",
     "text": [
      "-------------------------------------------------------------\n",
      "Black-Scholes_FFNN_Reduced_1_dropout_50_CVaR_95_TC_0_Call_ATM_CashC_100\n",
      "-------------------------------------------------------------\n",
      "---Training start---\n",
      "Saved\n",
      "Time elapsed: 0:00:36.182726\n",
      "Epoch 1, CVaR, Train: 3.051 Valid: 1.120\n",
      "Saved\n",
      "Time elapsed: 0:01:05.722335\n",
      "Epoch 2, CVaR, Train: 1.121 Valid: 1.041\n",
      "Saved\n",
      "Time elapsed: 0:01:35.776987\n",
      "Epoch 3, CVaR, Train: 1.058 Valid: 1.013\n",
      "Saved\n",
      "Time elapsed: 0:02:04.721499\n",
      "Epoch 4, CVaR, Train: 1.029 Valid: 1.012\n",
      "Saved\n",
      "Time elapsed: 0:02:34.992100\n",
      "Epoch 5, CVaR, Train: 1.023 Valid: 0.985\n",
      "Time elapsed: 0:03:04.147853\n",
      "Epoch 6, CVaR, Train: 1.008 Valid: 0.996\n",
      "Time elapsed: 0:03:33.560572\n",
      "Epoch 7, CVaR, Train: 0.989 Valid: 1.054\n",
      "Saved\n",
      "Time elapsed: 0:04:03.795883\n",
      "Epoch 8, CVaR, Train: 0.986 Valid: 0.964\n",
      "Saved\n",
      "Time elapsed: 0:04:33.433344\n",
      "Epoch 9, CVaR, Train: 0.993 Valid: 0.947\n",
      "Saved\n",
      "Time elapsed: 0:05:03.011306\n",
      "Epoch 10, CVaR, Train: 0.982 Valid: 0.946\n",
      "Time elapsed: 0:05:32.198427\n",
      "Epoch 11, CVaR, Train: 0.985 Valid: 0.947\n",
      "Time elapsed: 0:06:01.305608\n",
      "Epoch 12, CVaR, Train: 0.961 Valid: 0.978\n",
      "Time elapsed: 0:06:30.478801\n",
      "Epoch 13, CVaR, Train: 0.976 Valid: 0.986\n",
      "Time elapsed: 0:06:59.652803\n",
      "Epoch 14, CVaR, Train: 0.973 Valid: 0.954\n",
      "Time elapsed: 0:07:28.792004\n",
      "Epoch 15, CVaR, Train: 0.969 Valid: 0.953\n",
      "Saved\n",
      "Time elapsed: 0:07:58.384773\n",
      "Epoch 16, CVaR, Train: 0.976 Valid: 0.945\n",
      "Saved\n",
      "Time elapsed: 0:08:27.918905\n",
      "Epoch 17, CVaR, Train: 0.972 Valid: 0.934\n",
      "Time elapsed: 0:08:56.929285\n",
      "Epoch 18, CVaR, Train: 0.957 Valid: 0.961\n",
      "Time elapsed: 0:09:26.100371\n",
      "Epoch 19, CVaR, Train: 0.970 Valid: 0.940\n",
      "Time elapsed: 0:09:55.342489\n",
      "Epoch 20, CVaR, Train: 0.966 Valid: 0.965\n",
      "Time elapsed: 0:10:24.606455\n",
      "Epoch 21, CVaR, Train: 0.962 Valid: 0.966\n",
      "Time elapsed: 0:10:53.900500\n",
      "Epoch 22, CVaR, Train: 0.967 Valid: 0.958\n",
      "Time elapsed: 0:11:23.149754\n",
      "Epoch 23, CVaR, Train: 0.958 Valid: 0.991\n",
      "Time elapsed: 0:11:52.680159\n",
      "Epoch 24, CVaR, Train: 0.962 Valid: 0.958\n",
      "Time elapsed: 0:12:21.894272\n",
      "Epoch 25, CVaR, Train: 0.970 Valid: 1.050\n",
      "Time elapsed: 0:12:51.116593\n",
      "Epoch 26, CVaR, Train: 0.962 Valid: 0.939\n",
      "Time elapsed: 0:13:20.300689\n",
      "Epoch 27, CVaR, Train: 0.959 Valid: 0.955\n",
      "Saved\n",
      "Time elapsed: 0:13:49.931752\n",
      "Epoch 28, CVaR, Train: 0.964 Valid: 0.932\n",
      "Time elapsed: 0:14:18.714588\n",
      "Epoch 29, CVaR, Train: 0.955 Valid: 0.932\n",
      "Time elapsed: 0:14:47.928698\n",
      "Epoch 30, CVaR, Train: 0.954 Valid: 0.936\n",
      "Time elapsed: 0:15:17.120607\n",
      "Epoch 31, CVaR, Train: 0.950 Valid: 0.990\n",
      "Time elapsed: 0:15:46.304294\n",
      "Epoch 32, CVaR, Train: 0.955 Valid: 0.937\n",
      "Saved\n",
      "Time elapsed: 0:16:16.403406\n",
      "Epoch 33, CVaR, Train: 0.951 Valid: 0.931\n",
      "Time elapsed: 0:16:45.821119\n",
      "Epoch 34, CVaR, Train: 0.964 Valid: 0.977\n",
      "Time elapsed: 0:17:15.069503\n",
      "Epoch 35, CVaR, Train: 0.951 Valid: 0.941\n",
      "Time elapsed: 0:17:44.348836\n",
      "Epoch 36, CVaR, Train: 0.954 Valid: 0.945\n",
      "Time elapsed: 0:18:13.593268\n",
      "Epoch 37, CVaR, Train: 0.950 Valid: 0.939\n",
      "Time elapsed: 0:18:42.880994\n",
      "Epoch 38, CVaR, Train: 0.956 Valid: 0.944\n",
      "Time elapsed: 0:19:12.163712\n",
      "Epoch 39, CVaR, Train: 0.949 Valid: 0.934\n",
      "Time elapsed: 0:19:41.171112\n",
      "Epoch 40, CVaR, Train: 0.952 Valid: 0.937\n",
      "Time elapsed: 0:20:10.431832\n",
      "Epoch 41, CVaR, Train: 0.953 Valid: 0.948\n",
      "Time elapsed: 0:20:39.745833\n",
      "Epoch 42, CVaR, Train: 0.954 Valid: 0.939\n",
      "Time elapsed: 0:21:08.976301\n",
      "Epoch 43, CVaR, Train: 0.951 Valid: 0.950\n",
      "Time elapsed: 0:21:38.294723\n",
      "Epoch 44, CVaR, Train: 0.955 Valid: 0.935\n",
      "Time elapsed: 0:22:07.572575\n",
      "Epoch 45, CVaR, Train: 0.950 Valid: 0.954\n",
      "Time elapsed: 0:22:36.879866\n",
      "Epoch 46, CVaR, Train: 0.953 Valid: 0.983\n",
      "Saved\n",
      "Time elapsed: 0:23:06.626481\n",
      "Epoch 47, CVaR, Train: 0.951 Valid: 0.928\n",
      "Time elapsed: 0:23:35.958362\n",
      "Epoch 48, CVaR, Train: 0.949 Valid: 0.930\n",
      "Time elapsed: 0:24:05.328104\n",
      "Epoch 49, CVaR, Train: 0.949 Valid: 0.940\n",
      "Time elapsed: 0:24:34.654493\n",
      "Epoch 50, CVaR, Train: 0.949 Valid: 0.942\n",
      "---Finished training results---\n",
      "Time elapsed: 0:24:34.654574\n",
      "---Training end---\n"
     ]
    },
    {
     "name": "stderr",
     "output_type": "stream",
     "text": [
      "INFO:tensorflow:Restoring parameters from Black-Scholes_FFNN_Reduced_1_dropout_50_CVaR_95_TC_0_Call_ATM_CashC_100.ckpt\n"
     ]
    },
    {
     "name": "stdout",
     "output_type": "stream",
     "text": [
      "-------------------------------------------------------------\n",
      "Black-Scholes_FFNN_Reduced_1_dropout_50_CVaR_95_TC_0_Call_ATM_CashC_100\n",
      "-------------------------------------------------------------\n",
      "---Inference start---\n",
      "---Inference end---\n",
      "--- Deep agent trained and stored in ../models/.. ---\n",
      "--- Hedging startegy stored in ../results/Trining/.. ---\n",
      "---------------------- Results -----------------------__\n",
      "                       Metrics\n",
      "Strategy               CVaR_95\n",
      "Market           Black-Scholes\n",
      "Metric-CVaR           0.928158\n",
      "Relative_CVaR         0.962574\n",
      "Avg correlation         0.9931\n",
      "Avg R-squared         0.984998\n",
      "Option_price          3.945866\n",
      "CVaR_(DH-Delta)       1.023677\n",
      "Mean_(DH-Delta)       0.012275\n"
     ]
    }
   ],
   "source": [
    "from src.utils import *\n",
    "from src.models.deep_rl_training import rl_agent\n",
    "\n",
    "config_file = load_config(os.path.join(main_folder,'cfgs','config_agent.yml'))\n",
    "config_file_agent = config_file[\"agent\"]\n",
    "\n",
    "config_file = load_config(os.path.join(main_folder,'cfgs','config_simulation.yml'))\n",
    "config_file_simulation = config_file[\"simulation\"]\n",
    "\n",
    "hedging_strategy= rl_agent(config_file_simulation,config_file_agent)"
   ]
  }
 ],
 "metadata": {
  "kernelspec": {
   "display_name": "venv",
   "language": "python",
   "name": "python3"
  },
  "language_info": {
   "codemirror_mode": {
    "name": "ipython",
    "version": 3
   },
   "file_extension": ".py",
   "mimetype": "text/x-python",
   "name": "python",
   "nbconvert_exporter": "python",
   "pygments_lexer": "ipython3",
   "version": "3.9.6"
  },
  "orig_nbformat": 4
 },
 "nbformat": 4,
 "nbformat_minor": 2
}
