{
 "cells": [
  {
   "cell_type": "markdown",
   "metadata": {},
   "source": [
    "# Deep Hedging pipeline"
   ]
  },
  {
   "cell_type": "markdown",
   "metadata": {},
   "source": [
    "## Evironment setup"
   ]
  },
  {
   "cell_type": "markdown",
   "metadata": {},
   "source": [
    "Setup the general environment"
   ]
  },
  {
   "cell_type": "code",
   "execution_count": 1,
   "metadata": {},
   "outputs": [],
   "source": [
    "import os, sys\n",
    "from pathlib import Path\n",
    "\n",
    "main_folder = str(Path.cwd().parent)\n",
    "sys.path.append(main_folder)\n",
    "\n",
    "import warnings\n",
    "warnings.filterwarnings(\"ignore\")"
   ]
  },
  {
   "cell_type": "markdown",
   "metadata": {},
   "source": [
    "## Market simulation"
   ]
  },
  {
   "cell_type": "markdown",
   "metadata": {},
   "source": [
    "Simulation of state variables according to the specified market dynamics"
   ]
  },
  {
   "cell_type": "code",
   "execution_count": 2,
   "metadata": {},
   "outputs": [
    {
     "name": "stdout",
     "output_type": "stream",
     "text": [
      "-- Market dynamics simulation starts --\n",
      "-- Simulation completed - Features stored in ../data/processed/--\n"
     ]
    }
   ],
   "source": [
    "from src.utils import *\n",
    "from src.features.features_simulation import *\n",
    "\n",
    "config_file = load_config(os.path.join(main_folder,'cfgs','config_simulation.yml'))\n",
    "market = market_simulator(config_file)\n",
    "market.simulator()"
   ]
  },
  {
   "cell_type": "markdown",
   "metadata": {},
   "source": [
    "## Deep Hedging "
   ]
  },
  {
   "cell_type": "markdown",
   "metadata": {},
   "source": [
    "Deep RL agent training and hedging strategy generation\n",
    "\n",
    "**Remark**: This segment of the pipeline assumes that the JIVR features have already been simulated."
   ]
  },
  {
   "cell_type": "code",
   "execution_count": 3,
   "metadata": {},
   "outputs": [
    {
     "name": "stdout",
     "output_type": "stream",
     "text": [
      "-------------------------------------------------------------\n",
      "Black-Scholes_FFNN_Reduced_1_dropout_50_CVaR_95_TC_0_Call_ATM_NoCashC\n",
      "-------------------------------------------------------------\n",
      "---Training start---\n",
      "Saved\n",
      "Time elapsed: 0:00:32.585530\n",
      "Epoch 1, CVaR, Train: 3.100 Valid: 1.155\n",
      "Saved\n",
      "Time elapsed: 0:00:59.243250\n",
      "Epoch 2, CVaR, Train: 1.186 Valid: 1.031\n",
      "Time elapsed: 0:01:27.394619\n",
      "Epoch 3, CVaR, Train: 1.081 Valid: 1.045\n",
      "Time elapsed: 0:02:14.658533\n",
      "Epoch 4, CVaR, Train: 1.045 Valid: 1.036\n",
      "Saved\n",
      "Time elapsed: 0:02:42.892231\n",
      "Epoch 5, CVaR, Train: 1.036 Valid: 0.979\n",
      "---Finished training results---\n",
      "Time elapsed: 0:02:42.892253\n",
      "---Training end---\n"
     ]
    },
    {
     "name": "stderr",
     "output_type": "stream",
     "text": [
      "INFO:tensorflow:Restoring parameters from Black-Scholes_FFNN_Reduced_1_dropout_50_CVaR_95_TC_0_Call_ATM_NoCashC.ckpt\n"
     ]
    },
    {
     "name": "stdout",
     "output_type": "stream",
     "text": [
      "-------------------------------------------------------------\n",
      "Black-Scholes_FFNN_Reduced_1_dropout_50_CVaR_95_TC_0_Call_ATM_NoCashC\n",
      "-------------------------------------------------------------\n",
      "---Inference start---\n",
      "---Inference end---\n",
      "--- Deep agent trained and stored in ../models/.. ---\n",
      "--- Hedging startegy stored in ../results/Trining/.. ---\n",
      "---------------------- Results -----------------------__\n",
      "                       Metrics\n",
      "Strategy               CVaR_95\n",
      "Market           Black-Scholes\n",
      "Metric-CVaR           0.979177\n",
      "Relative_CVaR         1.015484\n",
      "Avg correlation       0.996154\n",
      "Avg R-squared         0.982649\n",
      "Option_price          3.945866\n",
      "CVaR_(DH-Delta)        1.09404\n",
      "Mean_(DH-Delta)       0.015003\n"
     ]
    }
   ],
   "source": [
    "from src.utils import *\n",
    "from src.models.deep_rl_training import rl_agent\n",
    "\n",
    "config_file = load_config(os.path.join(main_folder,'cfgs','config_agent.yml'))\n",
    "config_file_agent = config_file[\"agent\"]\n",
    "\n",
    "config_file = load_config(os.path.join(main_folder,'cfgs','config_simulation.yml'))\n",
    "config_file_simulation = config_file[\"simulation\"]\n",
    "\n",
    "hedging_strategy= rl_agent(config_file_simulation,config_file_agent)"
   ]
  }
 ],
 "metadata": {
  "kernelspec": {
   "display_name": "venv",
   "language": "python",
   "name": "python3"
  },
  "language_info": {
   "codemirror_mode": {
    "name": "ipython",
    "version": 3
   },
   "file_extension": ".py",
   "mimetype": "text/x-python",
   "name": "python",
   "nbconvert_exporter": "python",
   "pygments_lexer": "ipython3",
   "version": "3.9.6"
  },
  "orig_nbformat": 4
 },
 "nbformat": 4,
 "nbformat_minor": 2
}
